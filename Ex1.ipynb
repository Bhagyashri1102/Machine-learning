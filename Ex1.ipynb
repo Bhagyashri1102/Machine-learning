{
  "nbformat": 4,
  "nbformat_minor": 0,
  "metadata": {
    "colab": {
      "provenance": [],
      "authorship_tag": "ABX9TyMScFGOZQcOBinYeWCLCYwD",
      "include_colab_link": true
    },
    "kernelspec": {
      "name": "python3",
      "display_name": "Python 3"
    },
    "language_info": {
      "name": "python"
    }
  },
  "cells": [
    {
      "cell_type": "markdown",
      "metadata": {
        "id": "view-in-github",
        "colab_type": "text"
      },
      "source": [
        "<a href=\"https://colab.research.google.com/github/en22123162/Machine-learning/blob/main/Ex1.ipynb\" target=\"_parent\"><img src=\"https://colab.research.google.com/assets/colab-badge.svg\" alt=\"Open In Colab\"/></a>"
      ]
    },
    {
      "cell_type": "code",
      "execution_count": null,
      "metadata": {
        "colab": {
          "base_uri": "https://localhost:8080/"
        },
        "id": "xc1QOnAraUUR",
        "outputId": "863d5654-d931-4170-e803-b48ca7e01f6e"
      },
      "outputs": [
        {
          "output_type": "stream",
          "name": "stdout",
          "text": [
            "enter the radius5\n",
            "Area of Circle\n",
            "78.5\n"
          ]
        }
      ],
      "source": [
        "r=int(input(\"enter the radius:\"))\n",
        "print(\"Area of Circle:\")\n",
        "print(3.14*r*r)"
      ]
    },
    {
      "cell_type": "code",
      "source": [
        "#Palimdrom\n",
        "s=input(\"Enter the string:\")\n",
        "if(s==s[::-1]):\n",
        "      print(\"String is palimdrom\")\n",
        "else:\n",
        "       print(\"String is not palimdrom\")"
      ],
      "metadata": {
        "colab": {
          "base_uri": "https://localhost:8080/"
        },
        "id": "zxkFuYAheADr",
        "outputId": "1cf340c7-78ee-4fbd-f0ac-54f60b4b99e2"
      },
      "execution_count": null,
      "outputs": [
        {
          "output_type": "stream",
          "name": "stdout",
          "text": [
            "Enter the stringswea\n",
            "String is not palimdrom\n"
          ]
        }
      ]
    },
    {
      "cell_type": "code",
      "source": [
        "a=int(input(\"Enter the number:\"))\n",
        "for i in range(1,a):\n",
        "  a=a*i\n",
        "print(a)"
      ],
      "metadata": {
        "colab": {
          "base_uri": "https://localhost:8080/"
        },
        "id": "VFz2DcOJflOp",
        "outputId": "0d64ed7d-031e-4687-dbd9-60e6a4bac48e"
      },
      "execution_count": null,
      "outputs": [
        {
          "output_type": "stream",
          "name": "stdout",
          "text": [
            "Enter the number:5\n",
            "120\n"
          ]
        }
      ]
    }
  ]
}